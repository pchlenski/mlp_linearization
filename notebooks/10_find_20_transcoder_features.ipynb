{
 "cells": [
  {
   "cell_type": "code",
   "execution_count": 1,
   "metadata": {},
   "outputs": [],
   "source": [
    "%load_ext autoreload\n",
    "%autoreload 2"
   ]
  },
  {
   "cell_type": "code",
   "execution_count": 3,
   "metadata": {},
   "outputs": [],
   "source": [
    "import os\n",
    "\n",
    "import pandas as pd\n",
    "import matplotlib.pyplot as plt\n",
    "import numpy as np\n",
    "\n",
    "import torch\n",
    "import pickle\n",
    "\n",
    "from tqdm import tqdm\n",
    "\n",
    "from collections import Counter\n",
    "\n",
    "from linearization.analyzer import SAELinearizer\n",
    "from linearization.visualization import visualize_topk"
   ]
  },
  {
   "cell_type": "code",
   "execution_count": 24,
   "metadata": {},
   "outputs": [
    {
     "name": "stdout",
     "output_type": "stream",
     "text": [
      "Loaded pretrained model gelu-2l into HookedTransformer\n",
      "Moving model to device:  cuda\n",
      "Model device: cuda:0\n",
      "Tokens shape: torch.Size([125337, 128]), dtype: torch.int64, device: cuda:0\n",
      "Loading ../scripts/checkpoints/32x_gelu_2l_0/seed42_ln2_normalized/final_sparse_autoencoder_gelu-2l_blocks.0.ln2.hook_normalized_16384.pt from disk\n",
      "Encoder device: cuda:0\n",
      "Loading ../scripts/checkpoints/32x_gelu_2l_0/seed42_mlp_out/final_sparse_autoencoder_gelu-2l_blocks.0.hook_mlp_out_16384.pt from disk\n",
      "Encoder device: cuda:0\n",
      "Loading ../scripts/checkpoints/32x_gelu_2l_0/seed42_transcoder/final_sparse_autoencoder_gelu-2l_blocks.0.ln2.hook_normalized_16384.pt from disk\n",
      "Encoder device: cuda:0\n",
      "Loading ../scripts/checkpoints/32x_gelu_2l_1/seed42_ln2_normalized/final_sparse_autoencoder_gelu-2l_blocks.1.ln2.hook_normalized_16384.pt from disk\n",
      "Encoder device: cuda:0\n",
      "Loading ../scripts/checkpoints/32x_gelu_2l_1/seed42_mlp_out/final_sparse_autoencoder_gelu-2l_blocks.1.hook_mlp_out_16384.pt from disk\n",
      "Encoder device: cuda:0\n",
      "Loading ../scripts/checkpoints/32x_gelu_2l_1/seed42_transcoder/final_sparse_autoencoder_gelu-2l_blocks.1.ln2.hook_normalized_16384.pt from disk\n",
      "Encoder device: cuda:0\n",
      "dict_keys(['../scripts/checkpoints/32x_gelu_2l_0/seed42_ln2_normalized/final_sparse_autoencoder_gelu-2l_blocks.0.ln2.hook_normalized_16384.pt', '../scripts/checkpoints/32x_gelu_2l_0/seed42_mlp_out/final_sparse_autoencoder_gelu-2l_blocks.0.hook_mlp_out_16384.pt', '../scripts/checkpoints/32x_gelu_2l_0/seed42_transcoder/final_sparse_autoencoder_gelu-2l_blocks.0.ln2.hook_normalized_16384.pt', '../scripts/checkpoints/32x_gelu_2l_1/seed42_ln2_normalized/final_sparse_autoencoder_gelu-2l_blocks.1.ln2.hook_normalized_16384.pt', '../scripts/checkpoints/32x_gelu_2l_1/seed42_mlp_out/final_sparse_autoencoder_gelu-2l_blocks.1.hook_mlp_out_16384.pt', '../scripts/checkpoints/32x_gelu_2l_1/seed42_transcoder/final_sparse_autoencoder_gelu-2l_blocks.1.ln2.hook_normalized_16384.pt'])\n"
     ]
    },
    {
     "name": "stderr",
     "output_type": "stream",
     "text": [
      "100%|██████████| 100/100 [00:04<00:00, 23.57it/s]\n"
     ]
    },
    {
     "name": "stdout",
     "output_type": "stream",
     "text": [
      "Num dead 0.0\n"
     ]
    },
    {
     "name": "stderr",
     "output_type": "stream",
     "text": [
      "100%|██████████| 100/100 [00:04<00:00, 24.03it/s]\n"
     ]
    },
    {
     "name": "stdout",
     "output_type": "stream",
     "text": [
      "Num dead 0.01129150390625\n"
     ]
    },
    {
     "name": "stderr",
     "output_type": "stream",
     "text": [
      "100%|██████████| 100/100 [00:04<00:00, 24.36it/s]\n"
     ]
    },
    {
     "name": "stdout",
     "output_type": "stream",
     "text": [
      "Num dead 0.03765869140625\n"
     ]
    },
    {
     "name": "stderr",
     "output_type": "stream",
     "text": [
      "100%|██████████| 100/100 [00:04<00:00, 24.95it/s]\n"
     ]
    },
    {
     "name": "stdout",
     "output_type": "stream",
     "text": [
      "Num dead 0.000244140625\n"
     ]
    },
    {
     "name": "stderr",
     "output_type": "stream",
     "text": [
      "100%|██████████| 100/100 [00:04<00:00, 24.14it/s]\n"
     ]
    },
    {
     "name": "stdout",
     "output_type": "stream",
     "text": [
      "Num dead 0.20733642578125\n"
     ]
    },
    {
     "name": "stderr",
     "output_type": "stream",
     "text": [
      "100%|██████████| 100/100 [00:04<00:00, 23.42it/s]\n"
     ]
    },
    {
     "name": "stdout",
     "output_type": "stream",
     "text": [
      "Num dead 0.04205322265625\n"
     ]
    },
    {
     "name": "stderr",
     "output_type": "stream",
     "text": [
      " 17%|█▋        | 17/100 [00:50<04:14,  3.07s/it]"
     ]
    }
   ],
   "source": [
    "# path = \"../data/pickled_linearizers/gpt2_small_resid_mid.pkl\"\n",
    "\n",
    "# # Get SAE names automatically\n",
    "# prefix = \"../scripts/checkpoints/64x_resid_mid/\"\n",
    "# sae_names = []\n",
    "# for i in range(12):\n",
    "#     with os.scandir(prefix + f\"layer{i}\") as it:\n",
    "#         for entry in it:\n",
    "#             if entry.name.startswith(\"final\") and not entry.name.endswith(\"sparsity.pt\") and entry.is_file():\n",
    "#                 sae_names.append(entry.path)\n",
    "# print(\"SAE names:\", sae_names)\n",
    "\n",
    "sae_names = [\n",
    "    \"../scripts/checkpoints/32x_gelu_2l_0/seed42_ln2_normalized/final_sparse_autoencoder_gelu-2l_blocks.0.ln2.hook_normalized_16384.pt\",\n",
    "    \"../scripts/checkpoints/32x_gelu_2l_0/seed42_mlp_out/final_sparse_autoencoder_gelu-2l_blocks.0.hook_mlp_out_16384.pt\",\n",
    "    \"../scripts/checkpoints/32x_gelu_2l_0/seed42_transcoder/final_sparse_autoencoder_gelu-2l_blocks.0.ln2.hook_normalized_16384.pt\",\n",
    "    \"../scripts/checkpoints/32x_gelu_2l_1/seed42_ln2_normalized/final_sparse_autoencoder_gelu-2l_blocks.1.ln2.hook_normalized_16384.pt\",\n",
    "    \"../scripts/checkpoints/32x_gelu_2l_1/seed42_mlp_out/final_sparse_autoencoder_gelu-2l_blocks.1.hook_mlp_out_16384.pt\",\n",
    "    \"../scripts/checkpoints/32x_gelu_2l_1/seed42_transcoder/final_sparse_autoencoder_gelu-2l_blocks.1.ln2.hook_normalized_16384.pt\",\n",
    "]\n",
    "\n",
    "# if os.path.exists(path):\n",
    "#     lin = pickle.load(open(path, \"rb\"))\n",
    "# else:\n",
    "lin = SAELinearizer(\n",
    "    model_name=\"gelu-2l\",\n",
    "    sae_names=sae_names,\n",
    "    layers=[0, 0, 0, 1, 1, 1],\n",
    "    dataset_name=\"NeelNanda/pile-10k\",\n",
    "    act_name=\"normalized\",\n",
    "    num_batches=100,\n",
    "    half_precision=False,\n",
    "    # transcoder=True,\n",
    "    # use_gpt=True,\n",
    "    # dict_mult=64,\n",
    "    # hook_point=\"resid_mid\",\n",
    "    run_analysis=True,\n",
    ")\n",
    "# with open(path, \"wb\") as f:\n",
    "# pickle.dump(lin, f)"
   ]
  },
  {
   "cell_type": "code",
   "execution_count": 7,
   "metadata": {},
   "outputs": [],
   "source": [
    "import pickle\n",
    "\n",
    "with open(\"../data/pickled_linearizers/gelu_2l.pkl\", \"wb\") as f:\n",
    "    pickle.dump(lin, f)"
   ]
  },
  {
   "cell_type": "code",
   "execution_count": null,
   "metadata": {},
   "outputs": [
    {
     "data": {
      "text/plain": [
       "'blocks.0.ln2.hook_normalized'"
      ]
     },
     "execution_count": 14,
     "metadata": {},
     "output_type": "execute_result"
    }
   ],
   "source": [
    "from transformer_lens import utils\n",
    "\n",
    "utils.get_act_name(\"normalized\", 0, \"ln2\")"
   ]
  },
  {
   "cell_type": "code",
   "execution_count": null,
   "metadata": {},
   "outputs": [],
   "source": []
  }
 ],
 "metadata": {
  "kernelspec": {
   "display_name": "mats",
   "language": "python",
   "name": "python3"
  },
  "language_info": {
   "codemirror_mode": {
    "name": "ipython",
    "version": 3
   },
   "file_extension": ".py",
   "mimetype": "text/x-python",
   "name": "python",
   "nbconvert_exporter": "python",
   "pygments_lexer": "ipython3",
   "version": "3.10.0"
  }
 },
 "nbformat": 4,
 "nbformat_minor": 2
}
